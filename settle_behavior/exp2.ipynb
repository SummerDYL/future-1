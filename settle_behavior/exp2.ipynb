{
 "cells": [
  {
   "cell_type": "markdown",
   "metadata": {},
   "source": [
    "logit回归\n",
    "采用ovr策略\n",
    "\n",
    "| x | y |\n",
    "|---|---|\n",
    "|T-1到T结算价增减|T+1看涨/看跌/观望行为|\n",
    "\n",
    "|持仓量变化|行为类型|\n",
    "|---|---|\n",
    "|买持仓增加|看涨|\n",
    "|买持仓减少|看跌|\n",
    "|卖持仓增加|看跌|\n",
    "|卖持仓减少|看涨|\n",
    "|持仓不为零且不变|观望|"
   ]
  },
  {
   "cell_type": "code",
   "execution_count": null,
   "metadata": {
    "collapsed": true
   },
   "outputs": [],
   "source": [
    "import MySQLdb\n"
   ]
  }
 ],
 "metadata": {
  "kernelspec": {
   "display_name": "Python 2",
   "language": "python",
   "name": "python2"
  },
  "language_info": {
   "codemirror_mode": {
    "name": "ipython",
    "version": 2
   },
   "file_extension": ".py",
   "mimetype": "text/x-python",
   "name": "python",
   "nbconvert_exporter": "python",
   "pygments_lexer": "ipython2",
   "version": "2.7.8"
  }
 },
 "nbformat": 4,
 "nbformat_minor": 2
}
