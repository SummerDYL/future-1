{
 "cells": [
  {
   "cell_type": "markdown",
   "metadata": {},
   "source": [
    "使用上海商品交易所所有品种连续5天的成交量预测下一天所有品种的成交量\n",
    "<br/>\n",
    "训练集为2014年到2016年三年的上海个品种日总成交量数据\n",
    "<br/>\n",
    "测试集为2017年至今的个品种日成交量数据\n",
    "<br/>\n",
    "使用滑动窗口取样例，每次滑动一天，保证最大限度的采样"
   ]
  },
  {
   "cell_type": "code",
   "execution_count": 1,
   "metadata": {},
   "outputs": [],
   "source": [
    "import MySQLdb, datetime\n",
    "import numpy as np\n",
    "from sklearn.neural_network import MLPRegressor\n",
    "\n",
    "conn = MySQLdb.connect(host='219.224.169.45', user='lizimeng', passwd='codegeass', db='commodity', charset='utf8')\n",
    "cursor = conn.cursor()\n",
    "\n",
    "day1 = datetime.date(2014,1,1)\n",
    "day2 = datetime.date.today() - datetime.timedelta(1)\n",
    "\n",
    "commodities = []\n",
    "days = []\n",
    "\n",
    "cursor.execute('select distinct code from contract_daily where date between %s and %s', (day1,day2))\n",
    "for row in cursor.fetchall():\n",
    "    commodities.append(row)\n",
    "    \n",
    "cursor.execute('select distinct day from trade_day where day between %s and %s', (day1,day2))\n",
    "for row in cursor.fetchall():\n",
    "    days.append(row[0])\n",
    "    \n",
    "data = np.zeros((len(commodities), len(days)))\n",
    "\n",
    "i = 0\n",
    "for code in commodities:\n",
    "    cursor.execute('select sum(volume) from contract_daily where code=%s and date between %s and %s group by date order by date asc', (code,day1,day2))\n",
    "    j = 0\n",
    "    for row in cursor.fetchall():\n",
    "        data[i,j] = row[0]\n",
    "        j += 1\n",
    "    i += 1\n",
    "\n",
    "cursor.close()\n",
    "conn.close()"
   ]
  },
  {
   "cell_type": "code",
   "execution_count": 2,
   "metadata": {},
   "outputs": [],
   "source": [
    "# 切分训练集和测试集合，2017年1月1日之前为训练集，之后为测试集\n",
    "point = 0\n",
    "while days[point]<=datetime.date(2016,12,31):\n",
    "    point += 1"
   ]
  },
  {
   "cell_type": "code",
   "execution_count": null,
   "metadata": {},
   "outputs": [],
   "source": [
    "nn = MLPRegressor(hidden_layer_sizes=(200,200), activation='logistic', max_iter=10**6)\n",
    "# 训练神经网络\n",
    "X = []\n",
    "Y = []\n",
    "for i in range(point-5):\n",
    "    X.append(data[:,i:i+5].reshape(len(commodities)*5).tolist())\n",
    "    Y.append(data[:,i+5])\n",
    "nn.fit(X,Y)"
   ]
  },
  {
   "cell_type": "code",
   "execution_count": null,
   "metadata": {},
   "outputs": [],
   "source": [
    "# 测试神经网络\n",
    "X = []\n",
    "Y = []\n",
    "for i in range(point, len(days)-5):\n",
    "    X.append(data[:,i:i+5].reshape(len(commodities)*5).tolist())\n",
    "    Y.append(data[:,i+5])\n",
    "print nn.score(X,Y)"
   ]
  },
  {
   "cell_type": "code",
   "execution_count": null,
   "metadata": {},
   "outputs": [],
   "source": []
  }
 ],
 "metadata": {
  "kernelspec": {
   "display_name": "Python 2",
   "language": "python",
   "name": "python2"
  },
  "language_info": {
   "codemirror_mode": {
    "name": "ipython",
    "version": 2
   },
   "file_extension": ".py",
   "mimetype": "text/x-python",
   "name": "python",
   "nbconvert_exporter": "python",
   "pygments_lexer": "ipython2",
   "version": "2.7.9"
  }
 },
 "nbformat": 4,
 "nbformat_minor": 2
}
