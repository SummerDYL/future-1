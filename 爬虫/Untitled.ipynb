{
 "cells": [
  {
   "cell_type": "code",
   "execution_count": 1,
   "metadata": {},
   "outputs": [],
   "source": [
    "from WindPy import w\n",
    "import datetime"
   ]
  },
  {
   "cell_type": "code",
   "execution_count": 2,
   "metadata": {},
   "outputs": [
    {
     "name": "stdout",
     "output_type": "stream",
     "text": [
      "Welcome to use Wind Quant API for Python (WindPy)!\n",
      "You can use w.menu to help yourself to create commands(WSD,WSS,WST,WSI,WSQ,...)!\n",
      "\n",
      "COPYRIGHT (C) 2016 WIND HONGHUI INFORMATION & TECHKNOLEWDGE CO., LTD. ALL RIGHTS RESERVED.\n",
      "IN NO CIRCUMSTANCE SHALL WIND BE RESPONSIBLE FOR ANY DAMAGES OR LOSSES CAUSED BY USING WIND QUANT API FOR Python.\n"
     ]
    },
    {
     "data": {
      "text/plain": [
       ".ErrorCode=0\n",
       ".Data=[OK!]"
      ]
     },
     "execution_count": 2,
     "metadata": {},
     "output_type": "execute_result"
    }
   ],
   "source": [
    "w.start()"
   ]
  },
  {
   "cell_type": "code",
   "execution_count": null,
   "metadata": {},
   "outputs": [],
   "source": [
    "# w.wsd('CU1701.SHF', ['settle','volume'], \"20160601\", \"20160630\")"
   ]
  },
  {
   "cell_type": "code",
   "execution_count": 23,
   "metadata": {
    "scrolled": true
   },
   "outputs": [],
   "source": [
    "data = w.wsi('CU1802.SHF', ['volume','oi','open'], \"2017-12-05 20:00:00\", \"2017-12-06 16:00:00\")"
   ]
  },
  {
   "cell_type": "code",
   "execution_count": 24,
   "metadata": {},
   "outputs": [
    {
     "data": {
      "text/plain": [
       ".ErrorCode=0\n",
       ".Codes=[CU1802.SHF]\n",
       ".Fields=[volume,position,open]\n",
       ".Times=[20171205 20:59:00,20171205 21:00:00,20171205 21:01:00,20171205 21:02:00,20171205 21:03:00,20171205 21:04:00,20171205 21:05:00,20171205 21:06:00,20171205 21:07:00,20171205 21:08:00,...]\n",
       ".Data=[[518.0,5608.0,2338.0,1350.0,812.0,858.0,2476.0,874.0,390.0,220.0,...],[176118.0,176876.0,177184.0,177464.0,177570.0,177662.0,177164.0,177192.0,177254.0,177258.0,...],[52220.0,52210.0,52240.0,52160.0,52200.0,52190.0,52220.0,52270.0,52220.0,52250.0,...]]"
      ]
     },
     "execution_count": 24,
     "metadata": {},
     "output_type": "execute_result"
    }
   ],
   "source": [
    "data"
   ]
  },
  {
   "cell_type": "code",
   "execution_count": 27,
   "metadata": {},
   "outputs": [
    {
     "data": {
      "text/plain": [
       "260564.0"
      ]
     },
     "execution_count": 27,
     "metadata": {},
     "output_type": "execute_result"
    }
   ],
   "source": [
    "import numpy as np\n",
    "sum(filter(lambda x:x==x, data.Data[0]))"
   ]
  },
  {
   "cell_type": "code",
   "execution_count": 26,
   "metadata": {},
   "outputs": [
    {
     "data": {
      "text/plain": [
       "189004.0"
      ]
     },
     "execution_count": 26,
     "metadata": {},
     "output_type": "execute_result"
    }
   ],
   "source": [
    "data.Data[1][-1]"
   ]
  },
  {
   "cell_type": "code",
   "execution_count": 25,
   "metadata": {},
   "outputs": [
    {
     "data": {
      "text/plain": [
       "datetime.datetime(2017, 12, 6, 15, 0, 0, 5000)"
      ]
     },
     "execution_count": 25,
     "metadata": {},
     "output_type": "execute_result"
    }
   ],
   "source": [
    "data.Times[-1]"
   ]
  },
  {
   "cell_type": "code",
   "execution_count": null,
   "metadata": {},
   "outputs": [],
   "source": []
  }
 ],
 "metadata": {
  "kernelspec": {
   "display_name": "Python 2",
   "language": "python",
   "name": "python2"
  },
  "language_info": {
   "codemirror_mode": {
    "name": "ipython",
    "version": 2
   },
   "file_extension": ".py",
   "mimetype": "text/x-python",
   "name": "python",
   "nbconvert_exporter": "python",
   "pygments_lexer": "ipython2",
   "version": "2.7.9"
  }
 },
 "nbformat": 4,
 "nbformat_minor": 2
}
